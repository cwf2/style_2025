{
  "cells": [
    {
      "cell_type": "markdown",
      "metadata": {
        "id": "view-in-github",
        "colab_type": "text"
      },
      "source": [
        "<a href=\"https://colab.research.google.com/github/cwf2/style_2025/blob/main/Example%201.ipynb\" target=\"_parent\"><img src=\"https://colab.research.google.com/assets/colab-badge.svg\" alt=\"Open In Colab\"/></a>"
      ]
    },
    {
      "cell_type": "markdown",
      "metadata": {
        "id": "-bhCpyrJlPbM"
      },
      "source": [
        "### Install DICES client software\n",
        "\n",
        "This step is only necessary once on most machines, but because Google Colab runs this notebook on a fresh virtual machine every time, we always need to install DICES as the first step."
      ]
    },
    {
      "cell_type": "code",
      "execution_count": null,
      "metadata": {
        "id": "ydg98huekoRK"
      },
      "outputs": [],
      "source": [
        "!pip install -q git+https://github.com/cwf2/dices-client"
      ]
    },
    {
      "cell_type": "markdown",
      "metadata": {
        "id": "RJZQ1MZTlkz8"
      },
      "source": [
        "### Import statements\n",
        "\n",
        "This tells Python which ancillary functions we want to use in this notebook."
      ]
    },
    {
      "cell_type": "code",
      "execution_count": null,
      "metadata": {
        "id": "QEfcwcF7kvoy"
      },
      "outputs": [],
      "source": [
        "# for talking to DICES\n",
        "from dicesapi import DicesAPI\n",
        "\n",
        "# for tabular data manipulation\n",
        "import pandas as pd"
      ]
    },
    {
      "cell_type": "markdown",
      "metadata": {
        "id": "AP933TAblmK9"
      },
      "source": [
        "### Initialize connection to external sources\n",
        "\n",
        "This creates a connection to the DICES database.\n",
        "\n",
        "💁🏻‍♂️ *The DICES client spits out a lot of debugging information. It's convenient to divert those messages to a separate file.*"
      ]
    },
    {
      "cell_type": "code",
      "execution_count": null,
      "metadata": {
        "id": "ulqDHJEak4Fc"
      },
      "outputs": [],
      "source": [
        "# DICES database\n",
        "api = DicesAPI(logfile=\"dices.log\", logdetail=0)"
      ]
    },
    {
      "cell_type": "markdown",
      "metadata": {
        "id": "tVKWvPKBlvwq"
      },
      "source": [
        "### Get some speeches\n",
        "\n",
        "This is the basic search function to get speeches from DICES according to specific parameters."
      ]
    },
    {
      "cell_type": "code",
      "execution_count": null,
      "metadata": {
        "id": "Rb_iEL3YlDRg"
      },
      "outputs": [],
      "source": [
        "speeches = api.getSpeeches(author_name=\"Virgil\")\n",
        "n = len(speeches)\n",
        "print(\"Retrieved\", n, \"speeches.\")"
      ]
    },
    {
      "cell_type": "markdown",
      "metadata": {
        "id": "1-dta8PRxYli"
      },
      "source": [
        "### Print out some basic information about the speeches\n",
        "\n",
        "This loops over each speech in turn and prints out its attributes, separated by a tab.\n"
      ]
    },
    {
      "cell_type": "code",
      "execution_count": null,
      "metadata": {
        "id": "6O5SMVivxuHx"
      },
      "outputs": [],
      "source": [
        "for speech in speeches:\n",
        "    print(speech.id, speech.author.name, speech.work.title, speech.l_fi, speech.l_la, speech.getSpkrString(), speech.getAddrString(), sep=\"\\t\")"
      ]
    },
    {
      "cell_type": "markdown",
      "metadata": {
        "id": "DjW1rG8-yLUs"
      },
      "source": [
        "### Extract book and line numbers from the loci\n",
        "\n",
        "The loci are recorded as *strings*, that is, sequences of characters rather than as numeric data. Here we split each locus into two parts based on the \".\" character.\n",
        "\n",
        "To keep the example short, we'll just look at the first 10 speeches."
      ]
    },
    {
      "cell_type": "code",
      "execution_count": null,
      "metadata": {
        "id": "N045maTVl1P0"
      },
      "outputs": [],
      "source": [
        "for speech in speeches[:10]:\n",
        "    loc_first = speech.l_fi\n",
        "    loc_last = speech.l_la\n",
        "\n",
        "    book_first, line_first = loc_first.split(\".\")\n",
        "    book_last, line_last = loc_last.split(\".\")\n",
        "\n",
        "    print(speech.id, speech.author.name, speech.work.title, book_first, line_first, line_last, sep=\"\\t\")"
      ]
    },
    {
      "cell_type": "markdown",
      "metadata": {
        "id": "8wteJ5zBzaeX"
      },
      "source": [
        "### Speaker gender\n",
        "\n",
        "Each speaker and addressee has attributes `gender` (e.g. male, female), `being` (e.g., divine, mortal), `number` (individual, collective). Here we extract the gender of the first speaker in each speech (because speeches occasionally have multiple speakers, DICES always treats `speech.spkr` as a list.\n",
        "\n",
        "Once again, we'll just look at the first 10 speeches."
      ]
    },
    {
      "cell_type": "code",
      "execution_count": null,
      "metadata": {
        "id": "fx1ba0riz76N"
      },
      "outputs": [],
      "source": [
        "# take each speech of the first 10 in turn\n",
        "for speech in speeches[:10]:\n",
        "\n",
        "    # separate the loci into book and line\n",
        "    book_first, line_first = speech.l_fi.split(\".\")\n",
        "    book_last, line_last = speech.l_la.split(\".\")\n",
        "\n",
        "    # get the first speaker\n",
        "    spkr = speech.spkr[0]\n",
        "\n",
        "    # print row\n",
        "    print(speech.id, speech.author.name, speech.work.title, book_first, line_first, line_last, spkr.name, spkr.gender, sep=\"\\t\")"
      ]
    },
    {
      "cell_type": "markdown",
      "metadata": {
        "id": "vhZhZhed0VNR"
      },
      "source": [
        "### Putting it all together\n",
        "\n",
        "Finally, let's use the line numbers to calculate a rough approximation of the speech lengh. In order to do arithmatic with the line numbers, we must convert them from strings to *integers* (`int`)."
      ]
    },
    {
      "cell_type": "code",
      "execution_count": null,
      "metadata": {
        "id": "fK4jLf2l0Xuw"
      },
      "outputs": [],
      "source": [
        "for speech in speeches:\n",
        "    # separate book and line numbers\n",
        "    book_first, line_first = speech.l_fi.split(\".\")\n",
        "    book_last, line_last = speech.l_la.split(\".\")\n",
        "\n",
        "    # calculate length of speech\n",
        "    nlines = int(line_last) - int(line_first) + 1\n",
        "\n",
        "    # get first speaker gender\n",
        "    spkr_gender = speech.spkr[0].gender\n",
        "\n",
        "    # print row\n",
        "    print(\n",
        "        speech.id,\n",
        "        speech.author.name,\n",
        "        speech.work.title,\n",
        "        book_first,\n",
        "        line_first,\n",
        "        line_last,\n",
        "        nlines,\n",
        "        speech.getSpkrString(),\n",
        "        spkr_gender,\n",
        "        speech.getAddrString(),\n",
        "        sep=\"\\t\")"
      ]
    },
    {
      "cell_type": "markdown",
      "metadata": {
        "id": "dG6VHttm1cLG"
      },
      "source": [
        "### Make a table\n",
        "\n",
        "Now that we have demonstrated how to work with speeches and access some of their attributes, let's make the output easier to read and manipulate.\n",
        "\n",
        "Python can work with tabular data like a spreadsheet with the help of the ancillary package Pandas. Here we make the same data into a Pandas DataTable."
      ]
    },
    {
      "cell_type": "code",
      "execution_count": null,
      "metadata": {
        "id": "zo8VLPd712Pw"
      },
      "outputs": [],
      "source": [
        "# an empty list to hold the rows\n",
        "rows = list()\n",
        "\n",
        "# iterate over the speeches\n",
        "for speech in speeches:\n",
        "    # separate book and line numbers\n",
        "    book_first, line_first = speech.l_fi.split(\".\")\n",
        "    book_last, line_last = speech.l_la.split(\".\")\n",
        "\n",
        "    # calculate length of speech\n",
        "    nlines = int(line_last) - int(line_first) + 1\n",
        "\n",
        "    # get first speaker gender\n",
        "    spkr_gender = speech.spkr[0].gender\n",
        "\n",
        "    # create a new row, labelling all the data values\n",
        "    row = {\n",
        "        \"id\": speech.id,\n",
        "        \"author\": speech.author.name,\n",
        "        \"work\": speech.work.title,\n",
        "        \"book\": int(book_first),\n",
        "        \"first_line\": line_first,\n",
        "        \"last_line\": line_last,\n",
        "        \"num_lines\": nlines,\n",
        "        \"speaker\": speech.getSpkrString(),\n",
        "        \"gender\": spkr_gender,\n",
        "        \"addressee\": speech.getAddrString(),\n",
        "    }\n",
        "\n",
        "    # add the row to the list\n",
        "    rows.append(row)\n",
        "\n",
        "# make the table\n",
        "table = pd.DataFrame(rows)\n",
        "\n",
        "# write the table to a file for import to Excel\n",
        "table.to_csv(\"speeches.tsv\", sep=\"\\t\", index=False)\n",
        "\n",
        "# display the table\n",
        "display(table)"
      ]
    },
    {
      "cell_type": "markdown",
      "metadata": {
        "id": "8sHDJp343cSm"
      },
      "source": [
        "### Summarize data\n",
        "\n",
        "Just like in Excel, we can summarize tabular data with a pivot table (draaitabel). In this example, we'll count how many speeches are attributed to male and female speakers in each book of the *Aeneid*.\n",
        "\n",
        "We need to specify which columns in the original table we want to use:\n",
        "- The rows (or \"index\") of our summary table will come from `book`. Each book gets one row in the new table.\n",
        "- The columns will come from `gender`, i.e., \"male\" and \"female\".\n",
        "- We'll derive the values for each cell from the `id` column: that is, we're going to count how many speeches each gender gets.\n",
        "\n",
        "We also need to specify how we want to summarize the speech ids. In this case, we just want to count them. We tell Python this using the `aggfunc` (\"aggregation function\") parameter."
      ]
    },
    {
      "cell_type": "code",
      "execution_count": null,
      "metadata": {
        "id": "AlQtIZak3XST"
      },
      "outputs": [],
      "source": [
        "count_by_book = table.pivot_table(index=\"book\", columns=\"gender\", values=\"id\", aggfunc=\"count\")\n",
        "display(count_by_book)"
      ]
    },
    {
      "cell_type": "markdown",
      "metadata": {
        "id": "djUmN2jF6EDk"
      },
      "source": [
        "### Make a graph\n",
        "\n",
        "Pandas has some basic visualization functions built in. Let's turn the summary table above into a bar graph."
      ]
    },
    {
      "cell_type": "code",
      "execution_count": null,
      "metadata": {
        "id": "PrT5_a13nu9Z"
      },
      "outputs": [],
      "source": [
        "# generate a bar graph\n",
        "plot_by_book = count_by_book.plot.bar(title=\"speech count by gender\", ylabel=\"number of speeches\")\n",
        "\n",
        "# save to an image file\n",
        "plot_by_book.figure.savefig(\"speech_count_by_book.png\")"
      ]
    },
    {
      "cell_type": "markdown",
      "metadata": {
        "id": "WAF8qng361VP"
      },
      "source": [
        "### More aggregation options\n",
        "\n",
        "Let's do a second summary, this time looking at the number of lines spoken by each gender in each book of the poem. The rows and columns of our summary table will be the same as last time. But now the values will come from `num_lines` and the aggregation function will be `\"sum\"` instead of `\"count\"`."
      ]
    },
    {
      "cell_type": "code",
      "execution_count": null,
      "metadata": {
        "id": "fBmRFkETr9ug"
      },
      "outputs": [],
      "source": [
        "lines_by_gender = table.pivot_table(index=\"book\", columns=\"gender\", values=\"num_lines\", aggfunc=\"sum\")\n",
        "lines_by_gender.to_csv(\"lines_by_gender.csv\", index=False)\n",
        "display(lines_by_gender)"
      ]
    },
    {
      "cell_type": "markdown",
      "source": [
        "### Assignments\n",
        "\n",
        "Time to get started on your own assignment!\n",
        "Below, you'll find four different assignments that are similar to this example. It's easiest to keep working in this file, so you don't have to run the preliminaries again.\n",
        "\n",
        "How to get started: after choosing your assignment, scroll back to the top of this file. Start under 'Get some speeches'.\n",
        "\n",
        "Tip: open the notebook which corresponds to your assignment. Use it for hints.\n",
        "\n",
        "\n",
        "1a: Achilles\n",
        "- Collect all of Achilles' speeches\n",
        "- Print the speeches' data (work, addressee, number of lines etc.) like in the example above\n",
        "- Convert the data into a table\n",
        "- Make a pivot table that tells you how many speeches and how many lines Achilles speaks in each work\n",
        "- Convert this data into a bar graph\n",
        "\n",
        "1b: Female speakers in the *Iliad* and the *Odyssey*\n",
        "- Collect all speeches by women in Homer\n",
        "- Print the speeches' data (work, addressee, number of lines etc.) like in the example above\n",
        "- Convert the data into a table\n",
        "- Make a pivot table that tells you how many speeches by women there are in the *Iliad* and the *Odyssey*\n",
        "- Convert this data into a bar graph\n",
        "- Next step: repeat the last two steps, but for number of lines instead of number of speeches\n",
        "\n",
        "1c: Mortal women and goddesses in the *Odyssey*\n",
        "- Collect all speeches by female speakers in the *Odyssey*\n",
        "- Print the speeches' data (work, addressee, number of lines etc.) like in the example above\n",
        "- Convert the data into a table\n",
        "- Make a pivot table that tells you how many speeches in the *Odyssey* are spoken by mortal women and how many by goddesses\n",
        "- Convert this data into a bar graph\n",
        "- Next step: repeat the last two steps, but for number of lines instead of number of speeches\n",
        "\n",
        "1d: Speech length in the *Iliad* and the *Dionysiaca*\n",
        "- Collect all speeches from the *Iliad* and the *Dionysiaca*\n",
        "- Print the speeches' data (work, addressee, number of lines etc.) like in the example above\n",
        "- Convert the data into a table\n",
        "- Make a pivot table that tells you the average speech length in the *Iliad* and in the *Dionysiaca*\n",
        "- Convert this data into a bar graph\n",
        "- Next step: repeat the last two steps, but for average speech length per book instead of per work"
      ],
      "metadata": {
        "id": "ZNXeR4AbV79Q"
      }
    }
  ],
  "metadata": {
    "colab": {
      "provenance": [],
      "include_colab_link": true
    },
    "kernelspec": {
      "display_name": "Python 3 (ipykernel)",
      "language": "python",
      "name": "python3"
    },
    "language_info": {
      "codemirror_mode": {
        "name": "ipython",
        "version": 3
      },
      "file_extension": ".py",
      "mimetype": "text/x-python",
      "name": "python",
      "nbconvert_exporter": "python",
      "pygments_lexer": "ipython3",
      "version": "3.10.15"
    }
  },
  "nbformat": 4,
  "nbformat_minor": 0
}