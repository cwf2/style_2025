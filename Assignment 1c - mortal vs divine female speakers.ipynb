{
  "cells": [
    {
      "cell_type": "markdown",
      "metadata": {
        "id": "view-in-github",
        "colab_type": "text"
      },
      "source": [
        "<a href=\"https://colab.research.google.com/github/cwf2/style_2025/blob/main/Assignment%201c%20-%20mortal%20vs%20divine%20female%20speakers.ipynb\" target=\"_parent\"><img src=\"https://colab.research.google.com/assets/colab-badge.svg\" alt=\"Open In Colab\"/></a>"
      ]
    },
    {
      "cell_type": "markdown",
      "metadata": {
        "id": "-bhCpyrJlPbM"
      },
      "source": [
        "### Install DICES client software\n",
        "\n",
        "This step is only necessary once on most machines, but because Google Colab runs this notebook on a fresh virtual machine every time, we always need to install DICES as the first step."
      ]
    },
    {
      "cell_type": "code",
      "execution_count": null,
      "metadata": {
        "id": "ydg98huekoRK"
      },
      "outputs": [],
      "source": [
        "!pip install -q git+https://github.com/cwf2/dices-client"
      ]
    },
    {
      "cell_type": "markdown",
      "metadata": {
        "id": "RJZQ1MZTlkz8"
      },
      "source": [
        "### Import statements\n",
        "\n",
        "This tells Python which ancillary functions we want to use in this notebook."
      ]
    },
    {
      "cell_type": "code",
      "execution_count": null,
      "metadata": {
        "id": "QEfcwcF7kvoy"
      },
      "outputs": [],
      "source": [
        "# for connecting to DICES\n",
        "from dicesapi import DicesAPI\n",
        "\n",
        "# for working with tabular data\n",
        "import pandas as pd"
      ]
    },
    {
      "cell_type": "markdown",
      "metadata": {
        "id": "AP933TAblmK9"
      },
      "source": [
        "### Initialize connection to external sources\n",
        "\n",
        "This creates connections to the DICES database."
      ]
    },
    {
      "cell_type": "code",
      "execution_count": null,
      "metadata": {
        "id": "ulqDHJEak4Fc"
      },
      "outputs": [],
      "source": [
        "# DICES database\n",
        "api = DicesAPI(logfile=\"dices.log\", logdetail=0)"
      ]
    },
    {
      "cell_type": "markdown",
      "metadata": {
        "id": "tVKWvPKBlvwq"
      },
      "source": [
        "### Get some speeches\n",
        "\n",
        "This is the basic search function to get speeches from DICES according to specific parameters."
      ]
    },
    {
      "cell_type": "code",
      "execution_count": null,
      "metadata": {
        "id": "Rb_iEL3YlDRg"
      },
      "outputs": [],
      "source": [
        "# get speeches by female speakers in the Odyssey\n",
        "speeches = api.getSpeeches(work_title=\"Odyssey\", spkr_gender=\"female\")\n",
        "\n",
        "# how many did we get?\n",
        "n = len(speeches)\n",
        "\n",
        "# print a message\n",
        "print(f\"Retrieved {n} speeches\")"
      ]
    },
    {
      "cell_type": "markdown",
      "source": [
        "### Mortal and divine speakers\n",
        "\n",
        "Each speaker and addressee has attributes `gender` (e.g. male, female), `being` (e.g., divine, mortal), `number` (individual, collective). Here we extract the `being` of the first speaker in each speech (because speeches occasionally have multiple speakers, DICES always treats speech.spkr as a list)."
      ],
      "metadata": {
        "id": "PRypjaD7tJul"
      }
    },
    {
      "cell_type": "code",
      "source": [
        "# take each speech in turn\n",
        "for speech in speeches:\n",
        "\n",
        "    # split first and last line loci into two parts each\n",
        "    book_first, line_first = speech.l_fi.split(\".\")\n",
        "    book_last, line_last = speech.l_la.split(\".\")\n",
        "\n",
        "    # get the first speaker\n",
        "    spkr = speech.spkr[0]\n",
        "\n",
        "    # print a list of speech attributes\n",
        "    print(speech.id, speech.author.name, speech.work.title, book_first, line_first, line_last, spkr.being, sep=\"\\t\")"
      ],
      "metadata": {
        "id": "eDE5ltlztIt-"
      },
      "execution_count": null,
      "outputs": []
    },
    {
      "cell_type": "markdown",
      "metadata": {
        "id": "vhZhZhed0VNR"
      },
      "source": [
        "### Putting it all together"
      ]
    },
    {
      "cell_type": "markdown",
      "metadata": {
        "id": "dG6VHttm1cLG"
      },
      "source": [
        "### Make a table\n",
        "\n",
        "Python can work with tabular data like a spreadsheet with the help of the ancillary package [Pandas](https://pandas.pydata.org/docs/user_guide/index.html#user-guide). Here we make the same data into a Pandas data frame."
      ]
    },
    {
      "cell_type": "code",
      "execution_count": null,
      "metadata": {
        "id": "zo8VLPd712Pw"
      },
      "outputs": [],
      "source": [
        "# an empty list to hold the rows\n",
        "rows = list()\n",
        "\n",
        "# iterate over the speeches\n",
        "for speech in speeches:\n",
        "\n",
        "    # separate book and line numbers\n",
        "    book_first, line_first = speech.l_fi.split(\".\")\n",
        "    book_last, line_last = speech.l_la.split(\".\")\n",
        "\n",
        "    # calculate length of speech\n",
        "    nlines = int(line_last) - int(line_first) + 1\n",
        "\n",
        "    # get first speaker being\n",
        "    spkr_being = speech.spkr[0].being\n",
        "\n",
        "    # create a new row, labelling all the data values\n",
        "    row = {\n",
        "        \"id\": speech.id,\n",
        "        \"author\": speech.author.name,\n",
        "        \"work\": speech.work.title,\n",
        "        \"book\": int(book_first),\n",
        "        \"first_line\": line_first,\n",
        "        \"last_line\": line_last,\n",
        "        \"num_lines\": nlines,\n",
        "        \"being\": spkr_being\n",
        "        }\n",
        "\n",
        "    # add the row to the list\n",
        "    rows.append(row)\n",
        "\n",
        "# make the table\n",
        "table = pd.DataFrame(rows)\n",
        "\n",
        "# write the table to a file for import to Excel\n",
        "table.to_csv(\"speeches.tsv\", sep=\"\\t\", index=False)\n",
        "\n",
        "# display the table\n",
        "display(table)"
      ]
    },
    {
      "cell_type": "markdown",
      "metadata": {
        "id": "8sHDJp343cSm"
      },
      "source": [
        "### Summarize data\n",
        "\n",
        "Just like in Excel, we can summarize tabular data with a pivot table (draaitabel). In this example, we'll count how many speeches are attributed to mortal versus divine female speakers in the *Odyssey*.\n",
        "\n",
        "We need to specify which columns in the original table we want to use:\n",
        "- The rows (or \"index\") of our summary table will come from `book`. Each book gets one row in the new table.\n",
        "- The columns will come from `being`, i.e., \"mortal\", \"divine\", etc.\n",
        "- We'll derive the values for each cell from the `id` column: that is, we're going to count how many speeches mortal women and goddesses get in each work.\n",
        "\n",
        "We also need to specify how we want to summarize the speech IDs. In this case, we just want to count them. We tell Python this using the `aggfunc` (\"aggregation function\") parameter."
      ]
    },
    {
      "cell_type": "code",
      "execution_count": null,
      "metadata": {
        "id": "AlQtIZak3XST"
      },
      "outputs": [],
      "source": [
        "count_Odspeeches = (\n",
        "    table\n",
        "    .pivot_table(\n",
        "        index=\"book\",\n",
        "        columns=\"being\",\n",
        "        values=\"id\",\n",
        "        aggfunc=\"count\"\n",
        "    )\n",
        "    .fillna(0)\n",
        "    .astype(int)\n",
        ")\n",
        "\n",
        "display(count_Odspeeches)"
      ]
    },
    {
      "cell_type": "markdown",
      "metadata": {
        "id": "djUmN2jF6EDk"
      },
      "source": [
        "### Make a graph\n",
        "\n",
        "Pandas has some basic visualization functions built in. Let's turn the summary table above into a bar graph."
      ]
    },
    {
      "cell_type": "code",
      "execution_count": null,
      "metadata": {
        "id": "PrT5_a13nu9Z"
      },
      "outputs": [],
      "source": [
        "# generate a bar graph\n",
        "plot_by_book = count_Odspeeches.plot.bar(title=\"Female speeches in the Odyssey\", ylabel=\"number of speeches\")\n",
        "\n",
        "# save to an image file\n",
        "plot_by_book.figure.savefig(\"Odspeeches_count.png\")"
      ]
    },
    {
      "cell_type": "markdown",
      "metadata": {
        "id": "WAF8qng361VP"
      },
      "source": [
        "### More aggregation options\n",
        "\n",
        "Let's do a second summary, this time looking at the number of lines spoken by mortal women and goddesses in each book of the poem. The rows and columns of our summary table will be the same as last time. But now the values will come from `num_lines` and the aggregation function will be `\"sum\"` instead of `\"count\"`."
      ]
    },
    {
      "cell_type": "code",
      "execution_count": null,
      "metadata": {
        "id": "fBmRFkETr9ug"
      },
      "outputs": [],
      "source": [
        "lines_by_being = (\n",
        "    table\n",
        "    .pivot_table(\n",
        "        index=\"book\",\n",
        "        columns=\"being\",\n",
        "        values=\"num_lines\",\n",
        "        aggfunc=\"sum\"\n",
        "    )\n",
        "    .fillna(0)\n",
        "    .astype(int)\n",
        ")\n",
        "lines_by_being.to_csv(\"lines_by_being.csv\", index=False)\n",
        "display(lines_by_being)"
      ]
    },
    {
      "cell_type": "code",
      "source": [
        "# generate a bar graph\n",
        "plot_by_line = lines_by_being.plot.bar(title=\"Lines by female speakers in the Odyssey\", ylabel=\"number of speeches\")\n",
        "\n",
        "# save to an image file\n",
        "plot_by_line.figure.savefig(\"Odspeeches_count_by_line.png\")"
      ],
      "metadata": {
        "id": "ShuB7ipwv9e0"
      },
      "execution_count": null,
      "outputs": []
    }
  ],
  "metadata": {
    "colab": {
      "provenance": [],
      "include_colab_link": true
    },
    "kernelspec": {
      "display_name": "Python 3 (ipykernel)",
      "language": "python",
      "name": "python3"
    },
    "language_info": {
      "codemirror_mode": {
        "name": "ipython",
        "version": 3
      },
      "file_extension": ".py",
      "mimetype": "text/x-python",
      "name": "python",
      "nbconvert_exporter": "python",
      "pygments_lexer": "ipython3",
      "version": "3.10.15"
    }
  },
  "nbformat": 4,
  "nbformat_minor": 0
}