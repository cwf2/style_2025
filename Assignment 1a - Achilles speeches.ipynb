{
  "cells": [
    {
      "cell_type": "markdown",
      "metadata": {
        "id": "view-in-github",
        "colab_type": "text"
      },
      "source": [
        "<a href=\"https://colab.research.google.com/github/cwf2/style_2025/blob/main/Example%201a_%20Achilles_%20speeches.ipynb\" target=\"_parent\"><img src=\"https://colab.research.google.com/assets/colab-badge.svg\" alt=\"Open In Colab\"/></a>"
      ]
    },
    {
      "cell_type": "markdown",
      "metadata": {
        "id": "-bhCpyrJlPbM"
      },
      "source": [
        "### Install DICES client software\n",
        "\n",
        "This step is only necessary once on most machines, but because Google Colab runs this notebook on a fresh virtual machine every time, we always need to install DICES as the first step."
      ]
    },
    {
      "cell_type": "code",
      "execution_count": null,
      "metadata": {
        "id": "ydg98huekoRK"
      },
      "outputs": [],
      "source": [
        "!pip install -q git+https://github.com/cwf2/dices-client"
      ]
    },
    {
      "cell_type": "markdown",
      "metadata": {
        "id": "RJZQ1MZTlkz8"
      },
      "source": [
        "### Import statements\n",
        "\n",
        "This tells Python which ancillary functions we want to use in this notebook."
      ]
    },
    {
      "cell_type": "code",
      "execution_count": null,
      "metadata": {
        "id": "QEfcwcF7kvoy"
      },
      "outputs": [],
      "source": [
        "from dicesapi import DicesAPI\n",
        "from dicesapi.text import CtsAPI\n",
        "import pandas as pd"
      ]
    },
    {
      "cell_type": "markdown",
      "metadata": {
        "id": "AP933TAblmK9"
      },
      "source": [
        "### Initialize connection to external sources\n",
        "\n",
        "This creates connections to the speech database and to the digital library."
      ]
    },
    {
      "cell_type": "code",
      "execution_count": null,
      "metadata": {
        "id": "ulqDHJEak4Fc"
      },
      "outputs": [],
      "source": [
        "# DICES database\n",
        "api = DicesAPI(logdetail = 0)\n",
        "\n",
        "# Perseus Digital Library\n",
        "cts = CtsAPI(dices_api = api)"
      ]
    },
    {
      "cell_type": "markdown",
      "metadata": {
        "id": "tVKWvPKBlvwq"
      },
      "source": [
        "### Get some speeches\n",
        "\n",
        "This is the basic search function to get speeches from DICES according to specific parameters."
      ]
    },
    {
      "cell_type": "code",
      "execution_count": null,
      "metadata": {
        "id": "Rb_iEL3YlDRg"
      },
      "outputs": [],
      "source": [
        "speeches = api.getSpeeches(spkr_name=\"Achilles\")\n",
        "n = len(speeches)\n",
        "print(f\"Retrieved {n} speeches\")"
      ]
    },
    {
      "cell_type": "markdown",
      "metadata": {
        "id": "1-dta8PRxYli"
      },
      "source": [
        "### Print out some basic information about the speeches\n",
        "\n",
        "This loops over each speech in turn and prints out its attributes, separated by a tab.\n"
      ]
    },
    {
      "cell_type": "code",
      "execution_count": null,
      "metadata": {
        "id": "6O5SMVivxuHx"
      },
      "outputs": [],
      "source": [
        "for speech in speeches:\n",
        "    print(speech.id, speech.author.name, speech.work.title, speech.l_fi, speech.l_la, speech.getSpkrString(), speech.getAddrString(), sep=\"\\t\")"
      ]
    },
    {
      "cell_type": "markdown",
      "metadata": {
        "id": "DjW1rG8-yLUs"
      },
      "source": [
        "### Extract book and line numbers from the loci\n",
        "\n",
        "The loci are recorded as *strings*, that is, sequences of characters rather than as numeric data. Here we split each locus into two parts based on the \".\" character, and convert each part to a number (integer or `int`).\n",
        "\n",
        "For our purposes, we don't need to print the names of the speakers and addressees, so we'll leave that out."
      ]
    },
    {
      "cell_type": "code",
      "execution_count": null,
      "metadata": {
        "id": "N045maTVl1P0"
      },
      "outputs": [],
      "source": [
        "for speech in speeches:\n",
        "    loc_first = speech.l_fi\n",
        "    loc_last = speech.l_la\n",
        "\n",
        "    book_first, line_first = loc_first.split(\".\")\n",
        "    book_last, line_last = loc_last.split(\".\")\n",
        "\n",
        "    print(speech.id, speech.author.name, speech.work.title, book_first, line_first, line_last, sep=\"\\t\")"
      ]
    },
    {
      "cell_type": "markdown",
      "metadata": {
        "id": "vhZhZhed0VNR"
      },
      "source": [
        "### Putting it all together"
      ]
    },
    {
      "cell_type": "markdown",
      "metadata": {
        "id": "dG6VHttm1cLG"
      },
      "source": [
        "### Make a table\n",
        "\n",
        "Python can work with tabular data like a spreadsheet with the help of the ancillary package Pandas. Here we make the same data into a Pandas DataTable."
      ]
    },
    {
      "cell_type": "code",
      "execution_count": null,
      "metadata": {
        "id": "zo8VLPd712Pw"
      },
      "outputs": [],
      "source": [
        "# an empty list to hold the rows\n",
        "rows = list()\n",
        "\n",
        "# iterate over the speeches\n",
        "for speech in speeches:\n",
        "    # separate book and line numbers\n",
        "    book_first, line_first = speech.l_fi.split(\".\")\n",
        "    book_last, line_last = speech.l_la.split(\".\")\n",
        "\n",
        "    # calculate length of speech\n",
        "    nlines = int(line_last) - int(line_first) + 1\n",
        "\n",
        "    # create a new row, labelling all the data values\n",
        "    row = {\n",
        "        \"id\": speech.id,\n",
        "        \"author\": speech.author.name,\n",
        "        \"work\": speech.work.title,\n",
        "        \"book\": int(book_first),\n",
        "        \"first_line\": line_first,\n",
        "        \"last_line\": line_last,\n",
        "        \"num_lines\": nlines,\n",
        "        }\n",
        "\n",
        "    # add the row to the list\n",
        "    rows.append(row)\n",
        "\n",
        "# make the table\n",
        "table = pd.DataFrame(rows)\n",
        "\n",
        "# write the table to a file for import to Excel\n",
        "table.to_csv(\"speeches.tsv\", sep=\"\\t\", index=False)\n",
        "\n",
        "# display the table\n",
        "display(table)"
      ]
    },
    {
      "cell_type": "markdown",
      "metadata": {
        "id": "8sHDJp343cSm"
      },
      "source": [
        "### Summarize data\n",
        "\n",
        "Just like in Excel, we can summarize tabular data with a pivot table (draaitabel). In this example, we'll count how many speeches are attributed to Achilles in our whole corpus.\n",
        "\n",
        "We need to specify which columns in the original table we want to use:\n",
        "- The rows (or \"index\") of our summary table will come from `work`. Each work gets one row in the new table.\n",
        "- The columns will come from `id`, i.e., each of Achilles' speeches' assigned ID number.\n",
        "- We'll derive the values for each cell from the `id` column: that is, we're going to count how many speeches Achilles gets in each work.\n",
        "\n",
        "We also need to specify how we want to summarize the speech ids. In this case, we just want to count them. We tell Python this using the `aggfunc` (\"aggregation function\") parameter."
      ]
    },
    {
      "cell_type": "code",
      "source": [
        "Aspeeches = (\n",
        "    table\n",
        "    .groupby(\"work\")\n",
        "    .agg(\n",
        "        speeches=(\"id\", \"count\"),\n",
        "        lines = (\"num_lines\", \"sum\"),\n",
        "    )\n",
        "    .sort_values(\"speeches\", ascending=False)\n",
        ")\n",
        "display(Aspeeches)"
      ],
      "metadata": {
        "id": "p65y4Q9TkNqX"
      },
      "execution_count": null,
      "outputs": []
    },
    {
      "cell_type": "markdown",
      "metadata": {
        "id": "djUmN2jF6EDk"
      },
      "source": [
        "### Make a graph\n",
        "\n",
        "Pandas has some basic visualization functions built in. Let's turn the summary table above into a bar graph."
      ]
    },
    {
      "cell_type": "code",
      "execution_count": null,
      "metadata": {
        "id": "PrT5_a13nu9Z"
      },
      "outputs": [],
      "source": [
        "# generate a bar graph\n",
        "plot_by_book = Aspeeches[\"speeches\"].plot.bar(title=\"Speeches by Achilles\", ylabel=\"number of speeches\")\n",
        "\n",
        "# save to an image file\n",
        "plot_by_book.figure.savefig(\"speech_count_by_Aspeeches.png\")"
      ]
    },
    {
      "cell_type": "code",
      "source": [
        "# generate a bar graph\n",
        "plot_by_book = Aspeeches[\"lines\"].plot.bar(title=\"Lines spoken by Achilles\", ylabel=\"total lines\")\n",
        "\n",
        "# save to an image file\n",
        "plot_by_book.figure.savefig(\"line_count_by_Aspeeches.png\")"
      ],
      "metadata": {
        "id": "vZbsvDPvkw6_"
      },
      "execution_count": null,
      "outputs": []
    }
  ],
  "metadata": {
    "colab": {
      "provenance": [],
      "include_colab_link": true
    },
    "kernelspec": {
      "display_name": "Python 3 (ipykernel)",
      "language": "python",
      "name": "python3"
    },
    "language_info": {
      "codemirror_mode": {
        "name": "ipython",
        "version": 3
      },
      "file_extension": ".py",
      "mimetype": "text/x-python",
      "name": "python",
      "nbconvert_exporter": "python",
      "pygments_lexer": "ipython3",
      "version": "3.10.15"
    }
  },
  "nbformat": 4,
  "nbformat_minor": 0
}